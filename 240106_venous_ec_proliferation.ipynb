{
 "cells": [
  {
   "cell_type": "code",
   "execution_count": null,
   "id": "420d448b-a1e7-4a7d-aa3c-5ee22f2a7232",
   "metadata": {},
   "outputs": [],
   "source": [
    "'''\n",
    "Goal:Find some unique differences in proliferation between VEC and Cap1\n",
    "'''"
   ]
  },
  {
   "cell_type": "code",
   "execution_count": null,
   "id": "02e8094c-6356-45de-9322-fc8b16c1943e",
   "metadata": {},
   "outputs": [],
   "source": [
    "import scanpy as sc\n",
    "import scanpy.external as sce\n",
    "import os \n",
    "import pandas as pd \n",
    "import numpy as np\n",
    "import seaborn as sns\n",
    "from functions import compare_obs_values_within_groups_to_excel\n",
    "\n",
    "figures = \"data/pilot/240106_venous_ec_proliferation\"\n",
    "os.makedirs(figures, exist_ok=True)\n",
    "sc.set_figure_params(dpi=300, format=\"png\")\n",
    "sc.settings.figdir = figures"
   ]
  },
  {
   "cell_type": "code",
   "execution_count": null,
   "id": "6e2e45d5-0b74-4709-bcb0-7b3ee4745afe",
   "metadata": {},
   "outputs": [],
   "source": [
    "adata = sc.read('data/single_cell_files/scanpy_files/venous_ec_celltyped.gz.h5ad')\n",
    "adata"
   ]
  },
  {
   "cell_type": "code",
   "execution_count": null,
   "id": "a162e1a4-cd37-49f9-a676-7e877b7d9707",
   "metadata": {},
   "outputs": [],
   "source": [
    "adata.obs.groupby('Library')['Lineage'].value_counts(normalize=True)"
   ]
  },
  {
   "cell_type": "code",
   "execution_count": null,
   "id": "e5b0ddee-1520-48a2-a1b6-5fec324e4e5e",
   "metadata": {},
   "outputs": [],
   "source": [
    "sc.pl.embedding(adata[adata.obs['Lineage']=='Endothelial'],\n",
    "                basis='X_umap_Endothelial',\n",
    "                color=['Scn7a','Clic4','Nostrin','Arap2','Eln','Mgp','Dkk2','Lingo2','Fabp4','Treatment','Cell Subtype']\n",
    "               )"
   ]
  },
  {
   "cell_type": "code",
   "execution_count": null,
   "id": "54385d84-416b-4f01-be52-8140ecc19b80",
   "metadata": {},
   "outputs": [],
   "source": [
    "sc.pl.umap(adata, color = ['Scgb1a1','Cyp2f2','Cbr2','Hp','Sftpc','Cell Subtype'])"
   ]
  },
  {
   "cell_type": "code",
   "execution_count": null,
   "id": "63e4aa4f-2e88-43e7-aa44-9a5cb9ed55f8",
   "metadata": {},
   "outputs": [],
   "source": [
    "sc.pl.dotplot(adata,['Cbr2','Sftpc'],groupby='Cell Subtype')"
   ]
  },
  {
   "cell_type": "code",
   "execution_count": null,
   "id": "1d3c3d97-dc9c-4c28-9c1e-a79fcb0de5c4",
   "metadata": {},
   "outputs": [],
   "source": [
    "pd.set_option('display.max_rows', 500) \n",
    "\n",
    "adata.var['ambient_rna_est_contamination'].sort_values(ascending=False).head(500)"
   ]
  },
  {
   "cell_type": "code",
   "execution_count": null,
   "id": "51929585-2152-475b-b7da-57e87485f8f4",
   "metadata": {},
   "outputs": [],
   "source": [
    "vec = sc.read('data/figures/subcluster/Venous EC/Venous EC_adata.gz.h5ad')\n",
    "sc.pl.umap(vec,color='leiden_Venous EC')"
   ]
  },
  {
   "cell_type": "code",
   "execution_count": null,
   "id": "60534f23-f4a2-47de-b21b-dc8dc9135e80",
   "metadata": {},
   "outputs": [],
   "source": [
    "\n",
    "sc.pl.umap(vec,color=['Eln','Nrxn3','Mgp','Cyp1b1'])"
   ]
  },
  {
   "cell_type": "code",
   "execution_count": null,
   "id": "29968b33-400d-4794-8aa7-6e3a65dc6a86",
   "metadata": {},
   "outputs": [],
   "source": [
    "sc.pl.umap(vec,color=['Arap2','Nostrin','Scn7a','Cyp4b1'])"
   ]
  },
  {
   "cell_type": "code",
   "execution_count": null,
   "id": "a4d25a98-f92c-4f3c-a007-f921cb3af888",
   "metadata": {},
   "outputs": [],
   "source": [
    "sc.pl.umap(vec,color=['Slc6a2','Car8','Mmp16','log1p_n_genes_by_umis','Car4','Gja5','Kitl','Gpihbp1'])"
   ]
  },
  {
   "cell_type": "code",
   "execution_count": null,
   "id": "8e00fba0-29bd-4ee0-91c0-c67df187d21f",
   "metadata": {},
   "outputs": [],
   "source": [
    "vec = sc.read('data/figures/subcluster/Venous EC/Venous EC_adata.gz.h5ad')\n",
    "pro_vec = sc.read('data/figures/subcluster/Proliferating Venous EC/Proliferating Venous EC_adata.gz.h5ad')\n",
    "vec = vec.concatenate(pro_vec)\n",
    "vec = vec[:,(vec.var['mt']==False)&(vec.var['ribo']==False)&(vec.var['hb']==False)]\n",
    "vec.obs['Proliferating'] = ['Pro' if x == 'Proliferating Venous EC' else 'Non-pro' for x in vec.obs['Cell Subtype']]\n",
    "sc.tl.rank_genes_groups(vec,'Proliferating',method='wilcoxon',pts=True)\n",
    "df_vec = sc.get.rank_genes_groups_df(vec, key=\"rank_genes_groups\", group='Pro')\n",
    "df_vec.set_index(\"names\",inplace=True)\n",
    "df_vec[\"pct_difference\"] = df_vec[\"pct_nz_group\"] - df_vec[\"pct_nz_reference\"]\n",
    "df_vec"
   ]
  },
  {
   "cell_type": "code",
   "execution_count": null,
   "id": "8cd23856-129d-4ed5-a697-c63affb7a465",
   "metadata": {},
   "outputs": [],
   "source": []
  },
  {
   "cell_type": "code",
   "execution_count": null,
   "id": "6d9a4f3b-3d4c-4d26-818d-247cd0d54422",
   "metadata": {},
   "outputs": [],
   "source": [
    "cap1 = sc.read('data/figures/subcluster/Cap1/Cap1_adata.gz.h5ad')\n",
    "pro_cap = sc.read('data/figures/subcluster/Proliferating Cap/Proliferating Cap_adata.gz.h5ad')\n",
    "sc.pl.umap(pro_cap,color=['leiden_Proliferating Cap','Gja4','Kit','Kitl','Car4','Sirpa','Tbx2','Peg3','Hpgd'])\n",
    "pro_cap1 = pro_cap[pro_cap.obs['leiden_Proliferating Cap'].isin(['0','1','4'])]\n",
    "cap1 = cap1.concatenate(pro_cap1)\n",
    "cap1 = cap1[:,(cap1.var['mt']==False)&(cap1.var['ribo']==False)&(cap1.var['hb']==False)]\n",
    "cap1.obs['Proliferating'] = ['Pro' if x == 'Proliferating Cap' else 'Non-pro' for x in cap1.obs['Cell Subtype']]\n",
    "sc.tl.rank_genes_groups(cap1,'Proliferating',method='wilcoxon',pts=True)\n",
    "df_cap1 = sc.get.rank_genes_groups_df(cap1, key=\"rank_genes_groups\", group='Pro')\n",
    "df_cap1.set_index(\"names\",inplace=True)\n",
    "df_cap1[\"pct_difference\"] = df_cap1[\"pct_nz_group\"] - df_cap1[\"pct_nz_reference\"]\n"
   ]
  },
  {
   "cell_type": "code",
   "execution_count": null,
   "id": "32855f05-1f35-4b2a-99a9-2907aa17c79f",
   "metadata": {},
   "outputs": [],
   "source": [
    "proliferating_score = pd.DataFrame(index=df_cap1.index)\n",
    "proliferating_score['VEC'] = df_vec['scores']\n",
    "proliferating_score['Cap1'] = df_cap1['scores']\n",
    "from sklearn.preprocessing import MinMaxScaler\n",
    "\n",
    "def normalize_dataframe(df):\n",
    "    # Initialize the MinMaxScaler\n",
    "    scaler = MinMaxScaler(feature_range=(-25, 50)) # range was picked to be close to Cap1 wilcoxon score\n",
    "    \n",
    "    # Fit the scaler on the data and transform each column\n",
    "    df_normalized = pd.DataFrame(scaler.fit_transform(df), index=df.index,columns=df.columns)\n",
    "    \n",
    "    return df_normalized\n",
    "proliferating_score = normalize_dataframe(proliferating_score)\n",
    "proliferating_score['difference'] = proliferating_score['VEC'] - proliferating_score['Cap1']\n",
    "proliferating_score = proliferating_score.sort_values('difference')"
   ]
  },
  {
   "cell_type": "code",
   "execution_count": null,
   "id": "59e652e5-43bb-4efa-8952-59baa73b0957",
   "metadata": {},
   "outputs": [],
   "source": [
    "with pd.ExcelWriter(\n",
    "        f\"{figures}/proliferation_scores.xlsx\", engine = \"xlsxwriter\"\n",
    "    ) as writer:\n",
    "    df_vec.to_excel(writer, sheet_name=f\"Venous EC\")\n",
    "    df_cap1.to_excel(writer, sheet_name=f\"Cap1\")\n",
    "    proliferating_score.to_excel(writer, sheet_name=f\"Wilcoxon_score_normalized\"[:31])"
   ]
  },
  {
   "cell_type": "code",
   "execution_count": null,
   "id": "0c9ab3f4-921d-4f0f-b6bc-a1ba8c2fff02",
   "metadata": {},
   "outputs": [],
   "source": [
    "sns.scatterplot(data=proliferating_score,x='VEC',y='Cap1',linewidth=0)"
   ]
  },
  {
   "cell_type": "code",
   "execution_count": null,
   "id": "9265d097-620e-4b0b-9d1e-78b6bd8b2cfc",
   "metadata": {},
   "outputs": [],
   "source": [
    "sc.pl.dotplot(adata,proliferating_score.head(20).index, groupby='Cell Subtype')"
   ]
  },
  {
   "cell_type": "code",
   "execution_count": null,
   "id": "a76090be-9aa6-4c2a-b6e7-3e9415f11676",
   "metadata": {},
   "outputs": [],
   "source": [
    "sc.pl.dotplot(adata,proliferating_score.tail(20).index, groupby='Cell Subtype')"
   ]
  },
  {
   "cell_type": "markdown",
   "id": "bdef9c54-ca8e-400b-b25c-a182c1a501b8",
   "metadata": {},
   "source": [
    "# Hyperoxia"
   ]
  },
  {
   "cell_type": "code",
   "execution_count": null,
   "id": "9cdac7e1-328f-4dfc-be97-22bbde127a54",
   "metadata": {},
   "outputs": [],
   "source": [
    "degs = pd.read_excel('data/figures/deg/hyperoxia_degs.xlsx',sheet_name=None,index_col=0,header=0)"
   ]
  },
  {
   "cell_type": "code",
   "execution_count": null,
   "id": "c448f477-a80b-43d7-a1e8-fcacd688522e",
   "metadata": {},
   "outputs": [],
   "source": [
    "hyperoxia_score = pd.DataFrame(index=df_cap1.index)\n",
    "hyperoxia_score['VEC'] = degs['Venous EC']['scores']\n",
    "hyperoxia_score['Cap1'] = degs['Cap1']['scores']\n",
    "from sklearn.preprocessing import MinMaxScaler\n",
    "\n",
    "def normalize_dataframe(df):\n",
    "    # Initialize the MinMaxScaler\n",
    "    scaler = MinMaxScaler(feature_range=(-20, 20)) # range picked to match Cap1 wilcoxon score range\n",
    "    # Fit the scaler on the data and transform each column\n",
    "    df_normalized = pd.DataFrame(scaler.fit_transform(df), index=df.index,columns=df.columns)\n",
    "    return df_normalized\n",
    "hyperoxia_score = normalize_dataframe(hyperoxia_score)\n",
    "hyperoxia_score['difference'] = hyperoxia_score['VEC'] - hyperoxia_score['Cap1']\n",
    "hyperoxia_score = hyperoxia_score.sort_values('difference')\n",
    "hyperoxia_score = hyperoxia_score.loc[(~hyperoxia_score.index.str.startswith('mt'))&(~hyperoxia_score.index.str.startswith('Rps'))&(~hyperoxia_score.index.str.startswith('Rpl'))]\n",
    "sns.scatterplot(data=hyperoxia_score,x='VEC',y='Cap1',linewidth=0)"
   ]
  },
  {
   "cell_type": "code",
   "execution_count": null,
   "id": "d692ad12-bee3-41ae-82cb-24a24402ab74",
   "metadata": {},
   "outputs": [],
   "source": [
    "with pd.ExcelWriter(\n",
    "        f\"{figures}/hyperoxia_scores.xlsx\", engine = \"xlsxwriter\"\n",
    "    ) as writer:\n",
    "    degs['Venous EC'].to_excel(writer, sheet_name=f\"Venous EC\")\n",
    "    degs['Cap1'].to_excel(writer, sheet_name=f\"Cap1\")\n",
    "    hyperoxia_score.to_excel(writer, sheet_name=f\"Wilcoxon_score_normalized\"[:31])"
   ]
  },
  {
   "cell_type": "code",
   "execution_count": null,
   "id": "832b8a28-e871-4df7-bfb6-96b7803c6ce4",
   "metadata": {},
   "outputs": [],
   "source": [
    "sc.pl.dotplot(adata,degs['Venous EC'].head(20).index, groupby='Cell Subtype')"
   ]
  },
  {
   "cell_type": "code",
   "execution_count": null,
   "id": "38c3aecb-9b55-48a6-8685-d8dc1199a439",
   "metadata": {},
   "outputs": [],
   "source": [
    "sc.pl.dotplot(adata,degs['Venous EC'].tail(20).index, groupby='Cell Subtype')"
   ]
  },
  {
   "cell_type": "code",
   "execution_count": null,
   "id": "06d5b9c1-1279-46b5-9dca-4ab7a6d13322",
   "metadata": {},
   "outputs": [],
   "source": [
    "vec = sc.read('data/figures/subcluster/Venous EC/Venous EC_adata.gz.h5ad')\n",
    "vec = vec[~vec.obs['leiden_Venous EC'].isin(['6','7'])]\n",
    "sc.tl.diffmap(vec)\n",
    "vec.obsm[\"X_diffmap\"] = vec.obsm[\"X_diffmap\"][:, 1:]\n",
    "vec.obs['difm1'] = [x[0] for x in vec.obsm[\"X_diffmap\"]]\n",
    "vec.obs['difm2'] = [x[1] for x in vec.obsm[\"X_diffmap\"]]\n",
    "vec.obs['umap1'] = [x[0] for x in vec.obsm[\"X_umap\"]]\n",
    "vec.obs['umap2'] = [x[1] for x in vec.obsm[\"X_umap\"]]\n",
    "\n",
    "vec.uns['iroot'] = vec.obs.index.get_loc(vec.obs['umap2'].idxmax())\n",
    "sc.tl.dpt(vec)\n",
    "\n",
    "sc.pl.umap(vec,color=['dpt_pseudotime'])"
   ]
  },
  {
   "cell_type": "code",
   "execution_count": null,
   "id": "9fe5260d-3338-4d83-bd6e-c007a50c7a81",
   "metadata": {},
   "outputs": [],
   "source": []
  },
  {
   "cell_type": "code",
   "execution_count": null,
   "id": "ad8f7970-550a-4fd5-8e09-73f9f31032fd",
   "metadata": {},
   "outputs": [],
   "source": []
  },
  {
   "cell_type": "code",
   "execution_count": null,
   "id": "51a43d59-ffd2-41a1-8cf6-a17cf7800c15",
   "metadata": {},
   "outputs": [],
   "source": []
  }
 ],
 "metadata": {
  "kernelspec": {
   "display_name": "Python 3 (ipykernel)",
   "language": "python",
   "name": "python3"
  },
  "language_info": {
   "codemirror_mode": {
    "name": "ipython",
    "version": 3
   },
   "file_extension": ".py",
   "mimetype": "text/x-python",
   "name": "python",
   "nbconvert_exporter": "python",
   "pygments_lexer": "ipython3",
   "version": "3.12.8"
  }
 },
 "nbformat": 4,
 "nbformat_minor": 5
}
