{
 "cells": [
  {
   "cell_type": "code",
   "execution_count": null,
   "id": "420d448b-a1e7-4a7d-aa3c-5ee22f2a7232",
   "metadata": {},
   "outputs": [],
   "source": [
    "'''\n",
    "Goal:Find some unique differences in proliferation between VEC and Cap1\n",
    "'''"
   ]
  },
  {
   "cell_type": "code",
   "execution_count": null,
   "id": "02e8094c-6356-45de-9322-fc8b16c1943e",
   "metadata": {},
   "outputs": [],
   "source": [
    "import scanpy as sc\n",
    "import scanpy.external as sce\n",
    "import os \n",
    "import pandas as pd \n",
    "import numpy as np\n",
    "import seaborn as sns\n",
    "from functions import compare_obs_values_within_groups_to_excel\n",
    "import matplotlib.pyplot as plt\n",
    "from sklearn.preprocessing import MinMaxScaler\n",
    "scaler = MinMaxScaler()\n",
    "\n",
    "figures = \"data/pilot/240106_venous_ec_proliferation\"\n",
    "os.makedirs(figures, exist_ok=True)\n",
    "sc.set_figure_params(dpi=150, format=\"png\")\n",
    "sc.settings.figdir = figures"
   ]
  },
  {
   "cell_type": "code",
   "execution_count": null,
   "id": "c02d2ba3-2762-4021-8eaf-8fb769d57da1",
   "metadata": {},
   "outputs": [],
   "source": [
    "adata=sc.read('data/single_cell_files/scanpy_files/venous_ec_celltyped_no_cc.gz.h5ad')"
   ]
  },
  {
   "cell_type": "code",
   "execution_count": null,
   "id": "651852c9-d438-4777-bf54-8ac125720203",
   "metadata": {},
   "outputs": [],
   "source": [
    "adata.var['ambient_rna_est_contamination_Bst1_HyOx_P3'].loc[['Cbr2','Sftpd']]"
   ]
  },
  {
   "cell_type": "code",
   "execution_count": null,
   "id": "2ba139c9-173b-476d-b97c-53714ba4e3be",
   "metadata": {},
   "outputs": [],
   "source": [
    "adata.var['ambient_rna_est_contamination_Bst1_Nox_P3'].loc[['Cbr2','Sftpd']]"
   ]
  },
  {
   "cell_type": "code",
   "execution_count": null,
   "id": "d404c5c3-2209-4ac5-9817-a262eeb70920",
   "metadata": {},
   "outputs": [],
   "source": [
    "adata.obs['Library'].value_counts()"
   ]
  },
  {
   "cell_type": "code",
   "execution_count": null,
   "id": "daae235f-5d95-4d14-891c-6b4f62ed8418",
   "metadata": {},
   "outputs": [],
   "source": [
    "degs = pd.read_excel('data/figures/deg_no_cc/hyperoxia_degs.xlsx',sheet_name='Venous EC',index_col=0,header=0)\n",
    "degs['ambient_rna_est_contamination_Bst1_HyOx_P3'] = adata.var['ambient_rna_est_contamination_Bst1_HyOx_P3']\n",
    "degs['ambient_rna_est_contamination_Bst1_Nox_P3'] = adata.var['ambient_rna_est_contamination_Bst1_Nox_P3']\n",
    "degs['ambient_rna_difference'] = degs['ambient_rna_est_contamination_Bst1_HyOx_P3'] -degs['ambient_rna_est_contamination_Bst1_Nox_P3']\n",
    "degs = degs.sort_values('ambient_rna_difference',ascending=False)\n",
    "degs_sig = degs.loc[(abs(degs['logfoldchanges'])>1)&(degs['pvals_adj']<=0.05)]\n",
    "degs_sig.to_csv(f'{figures}/ambient_rna_filtered_vec_sig_deg_no_cc.csv')\n",
    "degs_sig"
   ]
  },
  {
   "cell_type": "code",
   "execution_count": null,
   "id": "5e51e91f-bd0a-44c8-a329-dabc4774741a",
   "metadata": {},
   "outputs": [],
   "source": [
    "top_ambient_genes.tolist()"
   ]
  },
  {
   "cell_type": "code",
   "execution_count": null,
   "id": "abc4e1e8-1ea4-42e0-8ebb-3e66528c8f71",
   "metadata": {},
   "outputs": [],
   "source": []
  },
  {
   "cell_type": "code",
   "execution_count": null,
   "id": "a4e8ecc7-0357-4265-b5c2-f383ba1d5620",
   "metadata": {},
   "outputs": [],
   "source": [
    "sc.pl.dotplot(adata,['Cdkn1a','Btg2','Mki67','Top2a'],groupby=['Cell Subtype','Treatment'])"
   ]
  },
  {
   "cell_type": "code",
   "execution_count": null,
   "id": "83086ee9-6a52-4990-92f7-5f9113795857",
   "metadata": {},
   "outputs": [],
   "source": [
    "vec_size_comp = pd.read_excel(f'data/figures/subcluster_no_cc/Venous EC/leiden_Venous EC_comparisons.xlsx',sheet_name='3 v 4',index_col=0)\n",
    "art_size_comp = pd.read_excel(f'data/figures/subcluster_no_cc/Arterial EC/leiden_Arterial EC_comparisons.xlsx',sheet_name='0 v 4',index_col=0)\n",
    "size_score = vec_size_comp['scores'] + -art_size_comp['scores'] # comparisons are in opposite directions\n",
    "size_score = size_score.sort_values()\n",
    "print(size_score.head(20))\n",
    "print(size_score.tail(20))\n",
    "large_genes = size_score.tail(10).index\n",
    "small_genes = size_score.head(10).index"
   ]
  },
  {
   "cell_type": "code",
   "execution_count": null,
   "id": "dbcc8190-f754-4dba-bfd5-580044a637c6",
   "metadata": {},
   "outputs": [],
   "source": [
    "art_size_comp"
   ]
  },
  {
   "cell_type": "code",
   "execution_count": null,
   "id": "c2d10bd2-82f5-40a1-af3f-734e346c7c07",
   "metadata": {},
   "outputs": [],
   "source": [
    "vec_prolif_comp = pd.read_excel(f'data/figures/subcluster_no_cc/Venous EC/leiden_Venous EC_comparisons.xlsx',sheet_name='0 v 2',index_col=0)\n",
    "prolif_genes = vec_prolif_comp.tail(10).index"
   ]
  },
  {
   "cell_type": "code",
   "execution_count": null,
   "id": "cbcf8b40-fb23-4fbd-8fae-1aff7358a13d",
   "metadata": {},
   "outputs": [],
   "source": [
    "endo_adata = adata[adata.obs['Lineage']=='Endothelial']\n",
    "sc.pl.embedding(endo_adata,\n",
    "                basis='X_umap_Endothelial',\n",
    "                color='Cell Subtype')\n",
    "sc.pl.embedding(endo_adata,\n",
    "                basis='X_umap_Endothelial',\n",
    "                color=large_genes)\n",
    "sc.pl.embedding(endo_adata,\n",
    "                basis='X_umap_Endothelial',\n",
    "                color=small_genes)\n",
    "sc.pl.embedding(endo_adata,\n",
    "                basis='X_umap_Endothelial',\n",
    "                color=prolif_genes)"
   ]
  },
  {
   "cell_type": "code",
   "execution_count": null,
   "id": "54b3d31c-dce5-4f23-a86f-4a124235e7a9",
   "metadata": {},
   "outputs": [],
   "source": [
    "# for ct in adata[adata.obs['Lineage']=='Endothelial'].obs['Cell Subtype'].cat.categories:\n",
    "for ct in ['Arterial EC','Venous EC']:\n",
    "    ct_adata = sc.read(f'data/figures/subcluster_no_cc/{ct}/{ct}_adata.gz.h5ad')\n",
    "    sc.pl.umap(ct_adata,color=f'leiden_{ct}')\n",
    "    sc.pl.umap(ct_adata,color=prolif_genes)\n",
    "    sc.pl.umap(ct_adata,color=large_genes)\n",
    "    sc.pl.umap(ct_adata,color=small_genes)\n",
    "    sc.tl.score_genes(ct_adata,large_genes,score_name='large_score')\n",
    "    sc.tl.score_genes(ct_adata,small_genes,score_name='small_score')\n",
    "    sc.tl.score_genes(ct_adata,prolif_genes,score_name='prolif_score')\n",
    "    ct_adata.obs['size_score'] = ct_adata.obs['large_score'] - ct_adata.obs['small_score']\n",
    "    for x in ['size_score','prolif_score']:\n",
    "        ct_adata.obs[x] = scaler.fit_transform(ct_adata.obs[[x]])\n",
    "    sc.pl.violin(ct_adata,'prolif_score',groupby=f'leiden_{ct}')\n",
    "    sc.pl.violin(ct_adata,'size_score',groupby=f'leiden_{ct}')\n",
    "\n",
    "    # ct_adata.obs['prolif_score'] = ct_adata[:,vec_prolif_comp.tail(10).index].X.sum(axis=1)\n",
    "    sc.pl.umap(ct_adata,color='small_score')\n",
    "    sc.pl.umap(ct_adata,color='large_score')\n",
    "    sc.pl.umap(ct_adata,color='size_score')\n",
    "    sc.pl.umap(ct_adata,color='prolif_score')    \n",
    "    df = ct_adata.obs[['size_score','prolif_score','Treatment']].copy()\n",
    "    df['size_score_bins'] = pd.cut(df['size_score'], bins=3)\n",
    "    # df['size_score_bins'] = pd.qcut(df['size_score'],3)\n",
    "    \n",
    "    # Use barplot\n",
    "    ax = sns.barplot(data=df, x='size_score_bins', y='prolif_score',ci=None)\n",
    "    plt.xticks(rotation=45)\n",
    "    plt.show()\n",
    "    plt.close()\n",
    "    \n",
    "    ax = sns.barplot(data=df, x='size_score_bins', y='prolif_score', hue='Treatment',hue_order=['Normoxia','Hyperoxia'],ci=None)\n",
    "    sns.move_legend(ax, \"upper right\", bbox_to_anchor=(1.5, 1))\n",
    "    plt.xticks(rotation=45)\n",
    "    plt.show()\n",
    "    plt.close()\n",
    "\n",
    "\n",
    "    ax = sns.violinplot(data=df, x='size_score_bins', y='prolif_score',cut=0)    \n",
    "    plt.xticks(rotation=45)\n",
    "    plt.show()\n",
    "    plt.close()\n",
    "\n",
    "    ax = sns.violinplot(data=df, x='size_score_bins', y='prolif_score', hue='Treatment',hue_order=['Normoxia','Hyperoxia'],cut=0)\n",
    "    sns.move_legend(ax, \"upper right\", bbox_to_anchor=(1.5, 1))\n",
    "    plt.xticks(rotation=45)\n",
    "    plt.show()\n",
    "    plt.close()\n"
   ]
  },
  {
   "cell_type": "code",
   "execution_count": null,
   "id": "e49db53b-6549-43f6-a773-39f796b9c143",
   "metadata": {},
   "outputs": [],
   "source": [
    "sc.pl.dotplot(adata,['Cbr2','Sftpc'],groupby='Cell Subtype')"
   ]
  },
  {
   "cell_type": "code",
   "execution_count": null,
   "id": "8e00fba0-29bd-4ee0-91c0-c67df187d21f",
   "metadata": {},
   "outputs": [],
   "source": [
    "vec = sc.read('data/figures/subcluster/Venous EC/Venous EC_adata.gz.h5ad')\n",
    "pro_vec = sc.read('data/figures/subcluster/Proliferating Venous EC/Proliferating Venous EC_adata.gz.h5ad')\n",
    "vec = vec.concatenate(pro_vec)\n",
    "vec = vec[:,(vec.var['mt']==False)&(vec.var['ribo']==False)&(vec.var['hb']==False)]\n",
    "vec.obs['Proliferating'] = ['Pro' if x == 'Proliferating Venous EC' else 'Non-pro' for x in vec.obs['Cell Subtype']]\n",
    "sc.tl.rank_genes_groups(vec,'Proliferating',method='wilcoxon',pts=True)\n",
    "df_vec = sc.get.rank_genes_groups_df(vec, key=\"rank_genes_groups\", group='Pro')\n",
    "df_vec.set_index(\"names\",inplace=True)\n",
    "df_vec[\"pct_difference\"] = df_vec[\"pct_nz_group\"] - df_vec[\"pct_nz_reference\"]\n",
    "df_vec"
   ]
  },
  {
   "cell_type": "code",
   "execution_count": null,
   "id": "6d9a4f3b-3d4c-4d26-818d-247cd0d54422",
   "metadata": {},
   "outputs": [],
   "source": [
    "cap1 = sc.read('data/figures/subcluster/Cap1/Cap1_adata.gz.h5ad')\n",
    "pro_cap = sc.read('data/figures/subcluster/Proliferating Cap/Proliferating Cap_adata.gz.h5ad')\n",
    "sc.pl.umap(pro_cap,color=['leiden_Proliferating Cap','Gja4','Kit','Kitl','Car4','Sirpa','Tbx2','Car8','Peg3','Hpgd'])\n",
    "pro_cap1 = pro_cap[pro_cap.obs['leiden_Proliferating Cap'].isin(['1','2','3','4'])]\n",
    "cap1 = cap1.concatenate(pro_cap1)\n",
    "cap1 = cap1[:,(cap1.var['mt']==False)&(cap1.var['ribo']==False)&(cap1.var['hb']==False)]\n",
    "cap1.obs['Proliferating'] = ['Pro' if x == 'Proliferating Cap' else 'Non-pro' for x in cap1.obs['Cell Subtype']]\n",
    "sc.tl.rank_genes_groups(cap1,'Proliferating',method='wilcoxon',pts=True)\n",
    "df_cap1 = sc.get.rank_genes_groups_df(cap1, key=\"rank_genes_groups\", group='Pro')\n",
    "df_cap1.set_index(\"names\",inplace=True)\n",
    "df_cap1[\"pct_difference\"] = df_cap1[\"pct_nz_group\"] - df_cap1[\"pct_nz_reference\"]\n"
   ]
  },
  {
   "cell_type": "code",
   "execution_count": null,
   "id": "32855f05-1f35-4b2a-99a9-2907aa17c79f",
   "metadata": {},
   "outputs": [],
   "source": [
    "proliferating_score = pd.DataFrame(index=df_cap1.index)\n",
    "proliferating_score['VEC'] = df_vec['scores']\n",
    "proliferating_score['Cap1'] = df_cap1['scores']\n",
    "from sklearn.preprocessing import MinMaxScaler\n",
    "\n",
    "def normalize_dataframe(df):\n",
    "    # Initialize the MinMaxScaler\n",
    "    scaler = MinMaxScaler(feature_range=(-25, 50)) # range was picked to be close to Cap1 wilcoxon score\n",
    "    \n",
    "    # Fit the scaler on the data and transform each column\n",
    "    df_normalized = pd.DataFrame(scaler.fit_transform(df), index=df.index,columns=df.columns)\n",
    "    \n",
    "    return df_normalized\n",
    "proliferating_score = normalize_dataframe(proliferating_score)\n",
    "proliferating_score['difference'] = proliferating_score['VEC'] - proliferating_score['Cap1']\n",
    "proliferating_score = proliferating_score.sort_values('difference')"
   ]
  },
  {
   "cell_type": "code",
   "execution_count": null,
   "id": "59e652e5-43bb-4efa-8952-59baa73b0957",
   "metadata": {},
   "outputs": [],
   "source": [
    "with pd.ExcelWriter(\n",
    "        f\"{figures}/proliferation_scores.xlsx\", engine = \"xlsxwriter\"\n",
    "    ) as writer:\n",
    "    df_vec.to_excel(writer, sheet_name=f\"Venous EC\")\n",
    "    df_cap1.to_excel(writer, sheet_name=f\"Cap1\")\n",
    "    proliferating_score.to_excel(writer, sheet_name=f\"Wilcoxon_score_normalized\"[:31])"
   ]
  },
  {
   "cell_type": "code",
   "execution_count": null,
   "id": "0c9ab3f4-921d-4f0f-b6bc-a1ba8c2fff02",
   "metadata": {},
   "outputs": [],
   "source": [
    "sns.scatterplot(data=proliferating_score,x='VEC',y='Cap1',linewidth=0)"
   ]
  },
  {
   "cell_type": "code",
   "execution_count": null,
   "id": "9265d097-620e-4b0b-9d1e-78b6bd8b2cfc",
   "metadata": {},
   "outputs": [],
   "source": [
    "sc.pl.dotplot(adata,proliferating_score.head(20).index, groupby='Cell Subtype')"
   ]
  },
  {
   "cell_type": "code",
   "execution_count": null,
   "id": "a76090be-9aa6-4c2a-b6e7-3e9415f11676",
   "metadata": {},
   "outputs": [],
   "source": [
    "sc.pl.dotplot(adata,proliferating_score.tail(20).index, groupby='Cell Subtype')"
   ]
  },
  {
   "cell_type": "markdown",
   "id": "bdef9c54-ca8e-400b-b25c-a182c1a501b8",
   "metadata": {},
   "source": [
    "# Hyperoxia"
   ]
  },
  {
   "cell_type": "code",
   "execution_count": null,
   "id": "9cdac7e1-328f-4dfc-be97-22bbde127a54",
   "metadata": {},
   "outputs": [],
   "source": [
    "degs = pd.read_excel('data/figures/deg/hyperoxia_degs.xlsx',sheet_name=None,index_col=0,header=0)"
   ]
  },
  {
   "cell_type": "code",
   "execution_count": null,
   "id": "c448f477-a80b-43d7-a1e8-fcacd688522e",
   "metadata": {},
   "outputs": [],
   "source": [
    "hyperoxia_score = pd.DataFrame(index=df_cap1.index)\n",
    "hyperoxia_score['VEC'] = degs['Venous EC']['scores']\n",
    "hyperoxia_score['Cap1'] = degs['Cap1']['scores']\n",
    "from sklearn.preprocessing import MinMaxScaler\n",
    "\n",
    "def normalize_dataframe(df):\n",
    "    # Initialize the MinMaxScaler\n",
    "    scaler = MinMaxScaler(feature_range=(-20, 20)) # range picked to match Cap1 wilcoxon score range\n",
    "    # Fit the scaler on the data and transform each column\n",
    "    df_normalized = pd.DataFrame(scaler.fit_transform(df), index=df.index,columns=df.columns)\n",
    "    return df_normalized\n",
    "hyperoxia_score = normalize_dataframe(hyperoxia_score)\n",
    "hyperoxia_score['difference'] = hyperoxia_score['VEC'] - hyperoxia_score['Cap1']\n",
    "hyperoxia_score = hyperoxia_score.sort_values('difference')\n",
    "hyperoxia_score = hyperoxia_score.loc[(~hyperoxia_score.index.str.startswith('mt'))&(~hyperoxia_score.index.str.startswith('Rps'))&(~hyperoxia_score.index.str.startswith('Rpl'))]\n",
    "sns.scatterplot(data=hyperoxia_score,x='VEC',y='Cap1',linewidth=0)"
   ]
  },
  {
   "cell_type": "code",
   "execution_count": null,
   "id": "d692ad12-bee3-41ae-82cb-24a24402ab74",
   "metadata": {},
   "outputs": [],
   "source": [
    "with pd.ExcelWriter(\n",
    "        f\"{figures}/hyperoxia_scores.xlsx\", engine = \"xlsxwriter\"\n",
    "    ) as writer:\n",
    "    degs['Venous EC'].to_excel(writer, sheet_name=f\"Venous EC\")\n",
    "    degs['Cap1'].to_excel(writer, sheet_name=f\"Cap1\")\n",
    "    hyperoxia_score.to_excel(writer, sheet_name=f\"Wilcoxon_score_normalized\"[:31])"
   ]
  },
  {
   "cell_type": "code",
   "execution_count": null,
   "id": "832b8a28-e871-4df7-bfb6-96b7803c6ce4",
   "metadata": {},
   "outputs": [],
   "source": [
    "sc.pl.dotplot(adata,degs['Venous EC'].head(20).index, groupby='Cell Subtype')"
   ]
  },
  {
   "cell_type": "code",
   "execution_count": null,
   "id": "05ddc2f4-1f97-4306-bb2c-d934632d23d8",
   "metadata": {},
   "outputs": [],
   "source": [
    "sc.pl.dotplot(adata,['Scn7a','Eln','Mgp'], groupby='Cell Subtype')"
   ]
  },
  {
   "cell_type": "code",
   "execution_count": null,
   "id": "38c3aecb-9b55-48a6-8685-d8dc1199a439",
   "metadata": {},
   "outputs": [],
   "source": [
    "sc.pl.dotplot(adata,degs['Venous EC'].tail(20).index, groupby='Cell Subtype')"
   ]
  },
  {
   "cell_type": "code",
   "execution_count": null,
   "id": "06d5b9c1-1279-46b5-9dca-4ab7a6d13322",
   "metadata": {},
   "outputs": [],
   "source": [
    "vec = sc.read('data/figures/subcluster/Venous EC/Venous EC_adata.gz.h5ad')\n",
    "vec = vec[~vec.obs['leiden_Venous EC'].isin(['6','7'])]\n",
    "sc.tl.diffmap(vec)\n",
    "vec.obsm[\"X_diffmap\"] = vec.obsm[\"X_diffmap\"][:, 1:]\n",
    "vec.obs['difm1'] = [x[0] for x in vec.obsm[\"X_diffmap\"]]\n",
    "vec.obs['difm2'] = [x[1] for x in vec.obsm[\"X_diffmap\"]]\n",
    "vec.obs['umap1'] = [x[0] for x in vec.obsm[\"X_umap\"]]\n",
    "vec.obs['umap2'] = [x[1] for x in vec.obsm[\"X_umap\"]]\n",
    "\n",
    "vec.uns['iroot'] = vec.obs.index.get_loc(vec.obs['umap2'].idxmax())\n",
    "sc.tl.dpt(vec)\n",
    "\n",
    "sc.pl.umap(vec,color=['dpt_pseudotime'])"
   ]
  }
 ],
 "metadata": {
  "kernelspec": {
   "display_name": "Python 3 (ipykernel)",
   "language": "python",
   "name": "python3"
  },
  "language_info": {
   "codemirror_mode": {
    "name": "ipython",
    "version": 3
   },
   "file_extension": ".py",
   "mimetype": "text/x-python",
   "name": "python",
   "nbconvert_exporter": "python",
   "pygments_lexer": "ipython3",
   "version": "3.12.8"
  }
 },
 "nbformat": 4,
 "nbformat_minor": 5
}
