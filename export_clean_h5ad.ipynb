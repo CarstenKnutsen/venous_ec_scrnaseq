{
 "cells": [
  {
   "cell_type": "code",
   "execution_count": null,
   "id": "420d448b-a1e7-4a7d-aa3c-5ee22f2a7232",
   "metadata": {},
   "outputs": [],
   "source": [
    "'''\n",
    "Goal:remove extra layers to reduce file size\n",
    "'''"
   ]
  },
  {
   "cell_type": "code",
   "execution_count": null,
   "id": "02e8094c-6356-45de-9322-fc8b16c1943e",
   "metadata": {},
   "outputs": [],
   "source": [
    "import scanpy as sc\n",
    "import scanpy.external as sce\n",
    "import os \n",
    "import pandas as pd \n",
    "import numpy as np\n",
    "import scipy\n",
    "adata_name='venous_ec'\n",
    "data = \"data/single_cell_files/scanpy_files\"\n"
   ]
  },
  {
   "cell_type": "code",
   "execution_count": null,
   "id": "e41e0b8a-f2a7-4306-8180-fd10c4597f9e",
   "metadata": {},
   "outputs": [],
   "source": [
    "adata_all = sc.read(f'{data}/{adata_name}_celltyped_no_cc.gz.h5ad')\n",
    "\n",
    "\n",
    "adata_all.layers['soupx'] = adata_all.layers['raw'].copy()\n",
    "\n",
    "del adata_all.layers['log1p_cc_regress']\n",
    "del adata_all.layers['cp10k']\n",
    "del adata_all.layers['raw']\n",
    "adata_all.write(f'{data}/vessel_size_share.gz.h5ad',compression='gzip')\n"
   ]
  },
  {
   "cell_type": "code",
   "execution_count": null,
   "id": "8d701b92-c83a-47cb-89e2-0e85753497cc",
   "metadata": {},
   "outputs": [],
   "source": [
    "adata_all.obs = adata_all.obs[['Library', 'Treatment', 'Timepoint', 'Sort','Lineage','Cell Subtype','Cell Subtype_no_cc']]\n",
    "adata_all.var = adata_all.var[['gene_name', 'gene_id', 'gene_type', 'seqname', 'transcript_name', 'protein_id']]"
   ]
  },
  {
   "cell_type": "code",
   "execution_count": null,
   "id": "7d788130-70ac-415f-aff4-5aa9a3c875e6",
   "metadata": {},
   "outputs": [],
   "source": [
    "pd.DataFrame(adata_all.var.index).to_csv(os.path.join(data, \"processed_txt/genes.txt\" ), sep = \"\\t\")\n",
    "pd.DataFrame(adata_all.obs.index).to_csv(os.path.join(data, \"processed_txt/barcodes.txt\"), sep = \"\\t\")\n",
    "adata_all.obs.to_csv(os.path.join(data, \"processed_txt/cell_metadata.txt\"), sep = \"\\t\")\n",
    "adata_all.var.to_csv(os.path.join(data, \"processed_txt/gene_metadata.txt\"), sep = \"\\t\")\n",
    "\n",
    "scipy.io.mmwrite(os.path.join(data, \"processed_txt/matrix.mtx\"), adata_all.X)"
   ]
  },
  {
   "cell_type": "code",
   "execution_count": null,
   "id": "4f343f0a-1954-479a-941a-eb09285576a9",
   "metadata": {},
   "outputs": [],
   "source": []
  }
 ],
 "metadata": {
  "kernelspec": {
   "display_name": "Python 3 (ipykernel)",
   "language": "python",
   "name": "python3"
  },
  "language_info": {
   "codemirror_mode": {
    "name": "ipython",
    "version": 3
   },
   "file_extension": ".py",
   "mimetype": "text/x-python",
   "name": "python",
   "nbconvert_exporter": "python",
   "pygments_lexer": "ipython3",
   "version": "3.12.8"
  }
 },
 "nbformat": 4,
 "nbformat_minor": 5
}
